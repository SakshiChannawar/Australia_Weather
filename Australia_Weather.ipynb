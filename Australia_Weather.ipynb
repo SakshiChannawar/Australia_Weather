{
 "cells": [
  {
   "cell_type": "code",
   "execution_count": 406,
   "id": "0dc42374-1255-42f5-b15c-3ed479f2b697",
   "metadata": {},
   "outputs": [],
   "source": [
    "import pandas as pd\n",
    "import matplotlib.pyplot as plt\n",
    "import numpy as np\n",
    "import seaborn as sns"
   ]
  },
  {
   "cell_type": "code",
   "execution_count": 407,
   "id": "2e0f5d84-7771-4450-a24a-4f6b19c58db5",
   "metadata": {},
   "outputs": [],
   "source": [
    "df = pd.read_csv(\"Weather Test Data.csv\")"
   ]
  },
  {
   "cell_type": "code",
   "execution_count": 358,
   "id": "a2dd9c8e-8e0b-44eb-b7b3-bb24a20a117b",
   "metadata": {},
   "outputs": [
    {
     "data": {
      "text/plain": [
       "(42677, 22)"
      ]
     },
     "execution_count": 358,
     "metadata": {},
     "output_type": "execute_result"
    }
   ],
   "source": [
    "df.shape"
   ]
  },
  {
   "cell_type": "code",
   "execution_count": 359,
   "id": "0879f00d-46c2-49c0-9ca4-89f085a4e6d1",
   "metadata": {},
   "outputs": [
    {
     "data": {
      "text/plain": [
       "Index(['row ID', 'Location', 'MinTemp', 'MaxTemp', 'Rainfall', 'Evaporation',\n",
       "       'Sunshine', 'WindGustDir', 'WindGustSpeed', 'WindDir9am', 'WindDir3pm',\n",
       "       'WindSpeed9am', 'WindSpeed3pm', 'Humidity9am', 'Humidity3pm',\n",
       "       'Pressure9am', 'Pressure3pm', 'Cloud9am', 'Cloud3pm', 'Temp9am',\n",
       "       'Temp3pm', 'RainToday'],\n",
       "      dtype='object')"
      ]
     },
     "execution_count": 359,
     "metadata": {},
     "output_type": "execute_result"
    }
   ],
   "source": [
    "df.columns"
   ]
  },
  {
   "cell_type": "code",
   "execution_count": 360,
   "id": "88f4fffe-a371-438a-9050-746a19b7f85f",
   "metadata": {},
   "outputs": [
    {
     "data": {
      "text/html": [
       "<div>\n",
       "<style scoped>\n",
       "    .dataframe tbody tr th:only-of-type {\n",
       "        vertical-align: middle;\n",
       "    }\n",
       "\n",
       "    .dataframe tbody tr th {\n",
       "        vertical-align: top;\n",
       "    }\n",
       "\n",
       "    .dataframe thead th {\n",
       "        text-align: right;\n",
       "    }\n",
       "</style>\n",
       "<table border=\"1\" class=\"dataframe\">\n",
       "  <thead>\n",
       "    <tr style=\"text-align: right;\">\n",
       "      <th></th>\n",
       "      <th>row ID</th>\n",
       "      <th>Location</th>\n",
       "      <th>MinTemp</th>\n",
       "      <th>MaxTemp</th>\n",
       "      <th>Rainfall</th>\n",
       "      <th>Evaporation</th>\n",
       "      <th>Sunshine</th>\n",
       "      <th>WindGustDir</th>\n",
       "      <th>WindGustSpeed</th>\n",
       "      <th>WindDir9am</th>\n",
       "      <th>...</th>\n",
       "      <th>WindSpeed3pm</th>\n",
       "      <th>Humidity9am</th>\n",
       "      <th>Humidity3pm</th>\n",
       "      <th>Pressure9am</th>\n",
       "      <th>Pressure3pm</th>\n",
       "      <th>Cloud9am</th>\n",
       "      <th>Cloud3pm</th>\n",
       "      <th>Temp9am</th>\n",
       "      <th>Temp3pm</th>\n",
       "      <th>RainToday</th>\n",
       "    </tr>\n",
       "  </thead>\n",
       "  <tbody>\n",
       "    <tr>\n",
       "      <th>0</th>\n",
       "      <td>Row0</td>\n",
       "      <td>Albury</td>\n",
       "      <td>12.9</td>\n",
       "      <td>25.7</td>\n",
       "      <td>0.0</td>\n",
       "      <td>NaN</td>\n",
       "      <td>NaN</td>\n",
       "      <td>WSW</td>\n",
       "      <td>46.0</td>\n",
       "      <td>W</td>\n",
       "      <td>...</td>\n",
       "      <td>26.0</td>\n",
       "      <td>38.0</td>\n",
       "      <td>30.0</td>\n",
       "      <td>1007.6</td>\n",
       "      <td>1008.7</td>\n",
       "      <td>NaN</td>\n",
       "      <td>2.0</td>\n",
       "      <td>21.0</td>\n",
       "      <td>23.2</td>\n",
       "      <td>No</td>\n",
       "    </tr>\n",
       "    <tr>\n",
       "      <th>1</th>\n",
       "      <td>Row1</td>\n",
       "      <td>Albury</td>\n",
       "      <td>9.2</td>\n",
       "      <td>28.0</td>\n",
       "      <td>0.0</td>\n",
       "      <td>NaN</td>\n",
       "      <td>NaN</td>\n",
       "      <td>NE</td>\n",
       "      <td>24.0</td>\n",
       "      <td>SE</td>\n",
       "      <td>...</td>\n",
       "      <td>9.0</td>\n",
       "      <td>45.0</td>\n",
       "      <td>16.0</td>\n",
       "      <td>1017.6</td>\n",
       "      <td>1012.8</td>\n",
       "      <td>NaN</td>\n",
       "      <td>NaN</td>\n",
       "      <td>18.1</td>\n",
       "      <td>26.5</td>\n",
       "      <td>No</td>\n",
       "    </tr>\n",
       "    <tr>\n",
       "      <th>2</th>\n",
       "      <td>Row2</td>\n",
       "      <td>Albury</td>\n",
       "      <td>14.3</td>\n",
       "      <td>25.0</td>\n",
       "      <td>0.0</td>\n",
       "      <td>NaN</td>\n",
       "      <td>NaN</td>\n",
       "      <td>W</td>\n",
       "      <td>50.0</td>\n",
       "      <td>SW</td>\n",
       "      <td>...</td>\n",
       "      <td>24.0</td>\n",
       "      <td>49.0</td>\n",
       "      <td>19.0</td>\n",
       "      <td>1009.6</td>\n",
       "      <td>1008.2</td>\n",
       "      <td>1.0</td>\n",
       "      <td>NaN</td>\n",
       "      <td>18.1</td>\n",
       "      <td>24.6</td>\n",
       "      <td>No</td>\n",
       "    </tr>\n",
       "    <tr>\n",
       "      <th>3</th>\n",
       "      <td>Row3</td>\n",
       "      <td>Albury</td>\n",
       "      <td>9.7</td>\n",
       "      <td>31.9</td>\n",
       "      <td>0.0</td>\n",
       "      <td>NaN</td>\n",
       "      <td>NaN</td>\n",
       "      <td>NNW</td>\n",
       "      <td>80.0</td>\n",
       "      <td>SE</td>\n",
       "      <td>...</td>\n",
       "      <td>28.0</td>\n",
       "      <td>42.0</td>\n",
       "      <td>9.0</td>\n",
       "      <td>1008.9</td>\n",
       "      <td>1003.6</td>\n",
       "      <td>NaN</td>\n",
       "      <td>NaN</td>\n",
       "      <td>18.3</td>\n",
       "      <td>30.2</td>\n",
       "      <td>No</td>\n",
       "    </tr>\n",
       "    <tr>\n",
       "      <th>4</th>\n",
       "      <td>Row4</td>\n",
       "      <td>Albury</td>\n",
       "      <td>15.9</td>\n",
       "      <td>18.6</td>\n",
       "      <td>15.6</td>\n",
       "      <td>NaN</td>\n",
       "      <td>NaN</td>\n",
       "      <td>W</td>\n",
       "      <td>61.0</td>\n",
       "      <td>NNW</td>\n",
       "      <td>...</td>\n",
       "      <td>28.0</td>\n",
       "      <td>76.0</td>\n",
       "      <td>93.0</td>\n",
       "      <td>994.3</td>\n",
       "      <td>993.0</td>\n",
       "      <td>8.0</td>\n",
       "      <td>8.0</td>\n",
       "      <td>17.4</td>\n",
       "      <td>15.8</td>\n",
       "      <td>Yes</td>\n",
       "    </tr>\n",
       "  </tbody>\n",
       "</table>\n",
       "<p>5 rows × 22 columns</p>\n",
       "</div>"
      ],
      "text/plain": [
       "  row ID Location  MinTemp  MaxTemp  Rainfall  Evaporation  Sunshine  \\\n",
       "0   Row0   Albury     12.9     25.7       0.0          NaN       NaN   \n",
       "1   Row1   Albury      9.2     28.0       0.0          NaN       NaN   \n",
       "2   Row2   Albury     14.3     25.0       0.0          NaN       NaN   \n",
       "3   Row3   Albury      9.7     31.9       0.0          NaN       NaN   \n",
       "4   Row4   Albury     15.9     18.6      15.6          NaN       NaN   \n",
       "\n",
       "  WindGustDir  WindGustSpeed WindDir9am  ... WindSpeed3pm  Humidity9am  \\\n",
       "0         WSW           46.0          W  ...         26.0         38.0   \n",
       "1          NE           24.0         SE  ...          9.0         45.0   \n",
       "2           W           50.0         SW  ...         24.0         49.0   \n",
       "3         NNW           80.0         SE  ...         28.0         42.0   \n",
       "4           W           61.0        NNW  ...         28.0         76.0   \n",
       "\n",
       "   Humidity3pm  Pressure9am  Pressure3pm  Cloud9am  Cloud3pm  Temp9am  \\\n",
       "0         30.0       1007.6       1008.7       NaN       2.0     21.0   \n",
       "1         16.0       1017.6       1012.8       NaN       NaN     18.1   \n",
       "2         19.0       1009.6       1008.2       1.0       NaN     18.1   \n",
       "3          9.0       1008.9       1003.6       NaN       NaN     18.3   \n",
       "4         93.0        994.3        993.0       8.0       8.0     17.4   \n",
       "\n",
       "   Temp3pm  RainToday  \n",
       "0     23.2         No  \n",
       "1     26.5         No  \n",
       "2     24.6         No  \n",
       "3     30.2         No  \n",
       "4     15.8        Yes  \n",
       "\n",
       "[5 rows x 22 columns]"
      ]
     },
     "execution_count": 360,
     "metadata": {},
     "output_type": "execute_result"
    }
   ],
   "source": [
    "df.head()"
   ]
  },
  {
   "cell_type": "code",
   "execution_count": 361,
   "id": "3ec7e87c-78de-4b60-aa52-65d7f69704ec",
   "metadata": {},
   "outputs": [
    {
     "data": {
      "text/plain": [
       "RangeIndex(start=0, stop=42677, step=1)"
      ]
     },
     "execution_count": 361,
     "metadata": {},
     "output_type": "execute_result"
    }
   ],
   "source": [
    "df.index"
   ]
  },
  {
   "cell_type": "code",
   "execution_count": 362,
   "id": "c2c4602b-ca0d-4af5-8ed5-73eaa8a7c0aa",
   "metadata": {},
   "outputs": [
    {
     "data": {
      "text/plain": [
       "row ID            object\n",
       "Location          object\n",
       "MinTemp          float64\n",
       "MaxTemp          float64\n",
       "Rainfall         float64\n",
       "Evaporation      float64\n",
       "Sunshine         float64\n",
       "WindGustDir       object\n",
       "WindGustSpeed    float64\n",
       "WindDir9am        object\n",
       "WindDir3pm        object\n",
       "WindSpeed9am     float64\n",
       "WindSpeed3pm     float64\n",
       "Humidity9am      float64\n",
       "Humidity3pm      float64\n",
       "Pressure9am      float64\n",
       "Pressure3pm      float64\n",
       "Cloud9am         float64\n",
       "Cloud3pm         float64\n",
       "Temp9am          float64\n",
       "Temp3pm          float64\n",
       "RainToday         object\n",
       "dtype: object"
      ]
     },
     "execution_count": 362,
     "metadata": {},
     "output_type": "execute_result"
    }
   ],
   "source": [
    "df.dtypes"
   ]
  },
  {
   "cell_type": "code",
   "execution_count": 363,
   "id": "e9666ad3-4fc4-495d-9965-bba9c005afe1",
   "metadata": {},
   "outputs": [
    {
     "data": {
      "text/html": [
       "<div>\n",
       "<style scoped>\n",
       "    .dataframe tbody tr th:only-of-type {\n",
       "        vertical-align: middle;\n",
       "    }\n",
       "\n",
       "    .dataframe tbody tr th {\n",
       "        vertical-align: top;\n",
       "    }\n",
       "\n",
       "    .dataframe thead th {\n",
       "        text-align: right;\n",
       "    }\n",
       "</style>\n",
       "<table border=\"1\" class=\"dataframe\">\n",
       "  <thead>\n",
       "    <tr style=\"text-align: right;\">\n",
       "      <th></th>\n",
       "      <th>MinTemp</th>\n",
       "      <th>MaxTemp</th>\n",
       "      <th>Rainfall</th>\n",
       "      <th>Evaporation</th>\n",
       "      <th>Sunshine</th>\n",
       "      <th>WindGustSpeed</th>\n",
       "      <th>WindSpeed9am</th>\n",
       "      <th>WindSpeed3pm</th>\n",
       "      <th>Humidity9am</th>\n",
       "      <th>Humidity3pm</th>\n",
       "      <th>Pressure9am</th>\n",
       "      <th>Pressure3pm</th>\n",
       "      <th>Cloud9am</th>\n",
       "      <th>Cloud3pm</th>\n",
       "      <th>Temp9am</th>\n",
       "      <th>Temp3pm</th>\n",
       "    </tr>\n",
       "  </thead>\n",
       "  <tbody>\n",
       "    <tr>\n",
       "      <th>count</th>\n",
       "      <td>42483.000000</td>\n",
       "      <td>42585.000000</td>\n",
       "      <td>42250.000000</td>\n",
       "      <td>24365.000000</td>\n",
       "      <td>22178.000000</td>\n",
       "      <td>39887.000000</td>\n",
       "      <td>42264.000000</td>\n",
       "      <td>41882.000000</td>\n",
       "      <td>42136.000000</td>\n",
       "      <td>41573.000000</td>\n",
       "      <td>38411.000000</td>\n",
       "      <td>38432.000000</td>\n",
       "      <td>26592.000000</td>\n",
       "      <td>25585.000000</td>\n",
       "      <td>42387.000000</td>\n",
       "      <td>41855.000000</td>\n",
       "    </tr>\n",
       "    <tr>\n",
       "      <th>mean</th>\n",
       "      <td>12.210032</td>\n",
       "      <td>23.246068</td>\n",
       "      <td>2.342862</td>\n",
       "      <td>5.489715</td>\n",
       "      <td>7.647831</td>\n",
       "      <td>40.001379</td>\n",
       "      <td>13.995315</td>\n",
       "      <td>18.607516</td>\n",
       "      <td>68.791176</td>\n",
       "      <td>51.597672</td>\n",
       "      <td>1017.581591</td>\n",
       "      <td>1015.192792</td>\n",
       "      <td>4.412041</td>\n",
       "      <td>4.466054</td>\n",
       "      <td>17.028266</td>\n",
       "      <td>21.700982</td>\n",
       "    </tr>\n",
       "    <tr>\n",
       "      <th>std</th>\n",
       "      <td>6.432122</td>\n",
       "      <td>7.123596</td>\n",
       "      <td>8.412106</td>\n",
       "      <td>4.248850</td>\n",
       "      <td>3.778019</td>\n",
       "      <td>13.605915</td>\n",
       "      <td>8.872445</td>\n",
       "      <td>8.806916</td>\n",
       "      <td>18.996115</td>\n",
       "      <td>20.844525</td>\n",
       "      <td>7.094070</td>\n",
       "      <td>7.016408</td>\n",
       "      <td>2.887927</td>\n",
       "      <td>2.729640</td>\n",
       "      <td>6.501771</td>\n",
       "      <td>6.951426</td>\n",
       "    </tr>\n",
       "    <tr>\n",
       "      <th>min</th>\n",
       "      <td>-8.200000</td>\n",
       "      <td>-4.800000</td>\n",
       "      <td>0.000000</td>\n",
       "      <td>0.000000</td>\n",
       "      <td>0.000000</td>\n",
       "      <td>7.000000</td>\n",
       "      <td>0.000000</td>\n",
       "      <td>0.000000</td>\n",
       "      <td>1.000000</td>\n",
       "      <td>1.000000</td>\n",
       "      <td>982.200000</td>\n",
       "      <td>977.100000</td>\n",
       "      <td>0.000000</td>\n",
       "      <td>0.000000</td>\n",
       "      <td>-7.200000</td>\n",
       "      <td>-5.400000</td>\n",
       "    </tr>\n",
       "    <tr>\n",
       "      <th>25%</th>\n",
       "      <td>7.600000</td>\n",
       "      <td>18.000000</td>\n",
       "      <td>0.000000</td>\n",
       "      <td>2.600000</td>\n",
       "      <td>4.900000</td>\n",
       "      <td>31.000000</td>\n",
       "      <td>7.000000</td>\n",
       "      <td>13.000000</td>\n",
       "      <td>57.000000</td>\n",
       "      <td>37.000000</td>\n",
       "      <td>1012.900000</td>\n",
       "      <td>1010.400000</td>\n",
       "      <td>1.000000</td>\n",
       "      <td>2.000000</td>\n",
       "      <td>12.300000</td>\n",
       "      <td>16.600000</td>\n",
       "    </tr>\n",
       "    <tr>\n",
       "      <th>50%</th>\n",
       "      <td>12.000000</td>\n",
       "      <td>22.600000</td>\n",
       "      <td>0.000000</td>\n",
       "      <td>4.800000</td>\n",
       "      <td>8.500000</td>\n",
       "      <td>39.000000</td>\n",
       "      <td>13.000000</td>\n",
       "      <td>19.000000</td>\n",
       "      <td>70.000000</td>\n",
       "      <td>52.000000</td>\n",
       "      <td>1017.600000</td>\n",
       "      <td>1015.200000</td>\n",
       "      <td>5.000000</td>\n",
       "      <td>5.000000</td>\n",
       "      <td>16.800000</td>\n",
       "      <td>21.100000</td>\n",
       "    </tr>\n",
       "    <tr>\n",
       "      <th>75%</th>\n",
       "      <td>16.900000</td>\n",
       "      <td>28.300000</td>\n",
       "      <td>0.600000</td>\n",
       "      <td>7.400000</td>\n",
       "      <td>10.700000</td>\n",
       "      <td>48.000000</td>\n",
       "      <td>19.000000</td>\n",
       "      <td>24.000000</td>\n",
       "      <td>83.000000</td>\n",
       "      <td>66.000000</td>\n",
       "      <td>1022.400000</td>\n",
       "      <td>1020.000000</td>\n",
       "      <td>7.000000</td>\n",
       "      <td>7.000000</td>\n",
       "      <td>21.600000</td>\n",
       "      <td>26.500000</td>\n",
       "    </tr>\n",
       "    <tr>\n",
       "      <th>max</th>\n",
       "      <td>31.800000</td>\n",
       "      <td>47.000000</td>\n",
       "      <td>278.400000</td>\n",
       "      <td>145.000000</td>\n",
       "      <td>14.300000</td>\n",
       "      <td>122.000000</td>\n",
       "      <td>74.000000</td>\n",
       "      <td>83.000000</td>\n",
       "      <td>100.000000</td>\n",
       "      <td>100.000000</td>\n",
       "      <td>1040.400000</td>\n",
       "      <td>1038.900000</td>\n",
       "      <td>8.000000</td>\n",
       "      <td>8.000000</td>\n",
       "      <td>39.400000</td>\n",
       "      <td>45.400000</td>\n",
       "    </tr>\n",
       "  </tbody>\n",
       "</table>\n",
       "</div>"
      ],
      "text/plain": [
       "            MinTemp       MaxTemp      Rainfall   Evaporation      Sunshine  \\\n",
       "count  42483.000000  42585.000000  42250.000000  24365.000000  22178.000000   \n",
       "mean      12.210032     23.246068      2.342862      5.489715      7.647831   \n",
       "std        6.432122      7.123596      8.412106      4.248850      3.778019   \n",
       "min       -8.200000     -4.800000      0.000000      0.000000      0.000000   \n",
       "25%        7.600000     18.000000      0.000000      2.600000      4.900000   \n",
       "50%       12.000000     22.600000      0.000000      4.800000      8.500000   \n",
       "75%       16.900000     28.300000      0.600000      7.400000     10.700000   \n",
       "max       31.800000     47.000000    278.400000    145.000000     14.300000   \n",
       "\n",
       "       WindGustSpeed  WindSpeed9am  WindSpeed3pm   Humidity9am   Humidity3pm  \\\n",
       "count   39887.000000  42264.000000  41882.000000  42136.000000  41573.000000   \n",
       "mean       40.001379     13.995315     18.607516     68.791176     51.597672   \n",
       "std        13.605915      8.872445      8.806916     18.996115     20.844525   \n",
       "min         7.000000      0.000000      0.000000      1.000000      1.000000   \n",
       "25%        31.000000      7.000000     13.000000     57.000000     37.000000   \n",
       "50%        39.000000     13.000000     19.000000     70.000000     52.000000   \n",
       "75%        48.000000     19.000000     24.000000     83.000000     66.000000   \n",
       "max       122.000000     74.000000     83.000000    100.000000    100.000000   \n",
       "\n",
       "        Pressure9am   Pressure3pm      Cloud9am      Cloud3pm       Temp9am  \\\n",
       "count  38411.000000  38432.000000  26592.000000  25585.000000  42387.000000   \n",
       "mean    1017.581591   1015.192792      4.412041      4.466054     17.028266   \n",
       "std        7.094070      7.016408      2.887927      2.729640      6.501771   \n",
       "min      982.200000    977.100000      0.000000      0.000000     -7.200000   \n",
       "25%     1012.900000   1010.400000      1.000000      2.000000     12.300000   \n",
       "50%     1017.600000   1015.200000      5.000000      5.000000     16.800000   \n",
       "75%     1022.400000   1020.000000      7.000000      7.000000     21.600000   \n",
       "max     1040.400000   1038.900000      8.000000      8.000000     39.400000   \n",
       "\n",
       "            Temp3pm  \n",
       "count  41855.000000  \n",
       "mean      21.700982  \n",
       "std        6.951426  \n",
       "min       -5.400000  \n",
       "25%       16.600000  \n",
       "50%       21.100000  \n",
       "75%       26.500000  \n",
       "max       45.400000  "
      ]
     },
     "execution_count": 363,
     "metadata": {},
     "output_type": "execute_result"
    }
   ],
   "source": [
    "df.describe()"
   ]
  },
  {
   "cell_type": "code",
   "execution_count": 364,
   "id": "5dcf2fde-19d1-4742-bf86-a556653f1a1e",
   "metadata": {},
   "outputs": [
    {
     "data": {
      "text/plain": [
       "row ID           42677\n",
       "Location            49\n",
       "MinTemp            370\n",
       "MaxTemp            474\n",
       "Rainfall           460\n",
       "Evaporation        254\n",
       "Sunshine           143\n",
       "WindGustDir         16\n",
       "WindGustSpeed       62\n",
       "WindDir9am          16\n",
       "WindDir3pm          16\n",
       "WindSpeed9am        38\n",
       "WindSpeed3pm        37\n",
       "Humidity9am        100\n",
       "Humidity3pm        100\n",
       "Pressure9am        500\n",
       "Pressure3pm        489\n",
       "Cloud9am             9\n",
       "Cloud3pm             9\n",
       "Temp9am            413\n",
       "Temp3pm            472\n",
       "RainToday            2\n",
       "dtype: int64"
      ]
     },
     "execution_count": 364,
     "metadata": {},
     "output_type": "execute_result"
    }
   ],
   "source": [
    "df.nunique()     #It shows total no of unique values in each column. It can be applied on single column or entire dataset."
   ]
  },
  {
   "cell_type": "code",
   "execution_count": 365,
   "id": "a1b1fddb-d06c-4de4-9dca-af951cf38ddb",
   "metadata": {},
   "outputs": [
    {
     "data": {
      "text/plain": [
       "array(['Albury', 'BadgerysCreek', 'Cobar', 'CoffsHarbour', 'Moree',\n",
       "       'Newcastle', 'NorahHead', 'NorfolkIsland', 'Penrith', 'Richmond',\n",
       "       'Sydney', 'SydneyAirport', 'WaggaWagga', 'Williamtown',\n",
       "       'Wollongong', 'Canberra', 'Tuggeranong', 'MountGinini', 'Ballarat',\n",
       "       'Bendigo', 'Sale', 'MelbourneAirport', 'Melbourne', 'Mildura',\n",
       "       'Nhil', 'Portland', 'Watsonia', 'Dartmoor', 'Brisbane', 'Cairns',\n",
       "       'GoldCoast', 'Townsville', 'Adelaide', 'MountGambier', 'Nuriootpa',\n",
       "       'Woomera', 'Albany', 'Witchcliffe', 'PearceRAAF', 'PerthAirport',\n",
       "       'Perth', 'SalmonGums', 'Walpole', 'Hobart', 'Launceston',\n",
       "       'AliceSprings', 'Darwin', 'Katherine', 'Uluru'], dtype=object)"
      ]
     },
     "execution_count": 365,
     "metadata": {},
     "output_type": "execute_result"
    }
   ],
   "source": [
    "df['Location'].unique()   #in a column it displays all the unique values. It can be applied on a single column only and not on the dataframe. "
   ]
  },
  {
   "cell_type": "code",
   "execution_count": 366,
   "id": "8e451e9f-b866-44a1-bb1c-d123798962fb",
   "metadata": {},
   "outputs": [
    {
     "data": {
      "text/plain": [
       "row ID           42677\n",
       "Location         42677\n",
       "MinTemp          42483\n",
       "MaxTemp          42585\n",
       "Rainfall         42250\n",
       "Evaporation      24365\n",
       "Sunshine         22178\n",
       "WindGustDir      39868\n",
       "WindGustSpeed    39887\n",
       "WindDir9am       39670\n",
       "WindDir3pm       41547\n",
       "WindSpeed9am     42264\n",
       "WindSpeed3pm     41882\n",
       "Humidity9am      42136\n",
       "Humidity3pm      41573\n",
       "Pressure9am      38411\n",
       "Pressure3pm      38432\n",
       "Cloud9am         26592\n",
       "Cloud3pm         25585\n",
       "Temp9am          42387\n",
       "Temp3pm          41855\n",
       "RainToday        42250\n",
       "dtype: int64"
      ]
     },
     "execution_count": 366,
     "metadata": {},
     "output_type": "execute_result"
    }
   ],
   "source": [
    "df.count()"
   ]
  },
  {
   "cell_type": "code",
   "execution_count": 409,
   "id": "374ff0f6-8675-424e-b983-214c15714adb",
   "metadata": {},
   "outputs": [
    {
     "data": {
      "text/plain": [
       "row ID    Location      MinTemp  MaxTemp  Rainfall  Evaporation  Sunshine  WindGustDir  WindGustSpeed  WindDir9am  WindDir3pm  WindSpeed9am  WindSpeed3pm  Humidity9am  Humidity3pm  Pressure9am  Pressure3pm  Cloud9am  Cloud3pm  Temp9am  Temp3pm  RainToday\n",
       "Row10000  Sydney        21.2     23.8     0.0       7.4          0.0       SSW          54.0           SSW         S           19.0          11.0          76.0         69.0         1013.9       1012.4       7.0       8.0       21.8     23.6     No           1\n",
       "Row35362  PerthAirport  15.4     34.8     0.0       11.4         12.7      E            59.0           ENE         SE          31.0          9.0           35.0         13.0         1019.5       1014.8       4.0       1.0       23.1     33.8     No           1\n",
       "Row35364  PerthAirport  17.0     40.2     0.0       11.4         9.7       E            67.0           ENE         WSW         35.0          33.0          29.0         12.0         1012.1       1008.4       1.0       5.0       28.7     37.5     No           1\n",
       "Row35365  PerthAirport  17.9     25.5     0.0       10.4         12.9      WSW          57.0           SW          SW          30.0          28.0          46.0         47.0         1013.6       1013.5       4.0       3.0       21.4     24.2     No           1\n",
       "Row35366  PerthAirport  13.2     31.3     0.0       8.2          13.1      WSW          39.0           SSE         W           13.0          26.0          41.0         37.0         1017.7       1015.7       0.0       0.0       21.7     28.8     No           1\n",
       "                                                                                                                                                                                                                                                                 ..\n",
       "Row23048  Portland      12.8     17.4     2.2       5.0          9.2       ESE          46.0           SE          SE          15.0          22.0          63.0         58.0         1019.6       1019.1       8.0       8.0       13.7     15.6     Yes          1\n",
       "Row23049  Portland      8.5      20.8     0.0       6.0          4.6       ENE          33.0           ENE         ENE         9.0           11.0          89.0         58.0         1015.6       1012.1       7.0       8.0       13.7     20.1     No           1\n",
       "Row23050  Portland      13.8     21.6     0.2       5.2          6.1       W            59.0           W           WNW         22.0          41.0          59.0         73.0         1001.9       1005.4       8.0       8.0       21.6     19.5     No           1\n",
       "Row23051  Portland      7.7      13.6     14.8      4.0          4.4       W            80.0           W           W           41.0          50.0          72.0         92.0         1016.2       1016.5       8.0       8.0       10.5     12.7     Yes          1\n",
       "Row9999   Sydney        18.5     24.1     10.2      7.8          5.5       S            41.0           W           SSW         13.0          20.0          85.0         70.0         1019.9       1019.1       2.0       7.0       20.4     21.7     Yes          1\n",
       "Name: count, Length: 16846, dtype: int64"
      ]
     },
     "execution_count": 409,
     "metadata": {},
     "output_type": "execute_result"
    }
   ],
   "source": [
    "df.value_counts()           #in a column, it shows all the unique values with their count. It can be applied on a single column."
   ]
  },
  {
   "cell_type": "code",
   "execution_count": 368,
   "id": "afe5cc34-5630-48f2-bbdb-3040f89676cc",
   "metadata": {},
   "outputs": [
    {
     "name": "stdout",
     "output_type": "stream",
     "text": [
      "<class 'pandas.core.frame.DataFrame'>\n",
      "RangeIndex: 42677 entries, 0 to 42676\n",
      "Data columns (total 22 columns):\n",
      " #   Column         Non-Null Count  Dtype  \n",
      "---  ------         --------------  -----  \n",
      " 0   row ID         42677 non-null  object \n",
      " 1   Location       42677 non-null  object \n",
      " 2   MinTemp        42483 non-null  float64\n",
      " 3   MaxTemp        42585 non-null  float64\n",
      " 4   Rainfall       42250 non-null  float64\n",
      " 5   Evaporation    24365 non-null  float64\n",
      " 6   Sunshine       22178 non-null  float64\n",
      " 7   WindGustDir    39868 non-null  object \n",
      " 8   WindGustSpeed  39887 non-null  float64\n",
      " 9   WindDir9am     39670 non-null  object \n",
      " 10  WindDir3pm     41547 non-null  object \n",
      " 11  WindSpeed9am   42264 non-null  float64\n",
      " 12  WindSpeed3pm   41882 non-null  float64\n",
      " 13  Humidity9am    42136 non-null  float64\n",
      " 14  Humidity3pm    41573 non-null  float64\n",
      " 15  Pressure9am    38411 non-null  float64\n",
      " 16  Pressure3pm    38432 non-null  float64\n",
      " 17  Cloud9am       26592 non-null  float64\n",
      " 18  Cloud3pm       25585 non-null  float64\n",
      " 19  Temp9am        42387 non-null  float64\n",
      " 20  Temp3pm        41855 non-null  float64\n",
      " 21  RainToday      42250 non-null  object \n",
      "dtypes: float64(16), object(6)\n",
      "memory usage: 7.2+ MB\n"
     ]
    }
   ],
   "source": [
    "df.info()"
   ]
  },
  {
   "cell_type": "markdown",
   "id": "c6aa5ace-d8f4-439c-8251-d3a08745c070",
   "metadata": {},
   "source": [
    "***Q1. Find all the Null values in the column***"
   ]
  },
  {
   "cell_type": "code",
   "execution_count": 369,
   "id": "1a85ab5c-e9f4-4bf3-875f-ed94903aae91",
   "metadata": {},
   "outputs": [
    {
     "data": {
      "text/html": [
       "<div>\n",
       "<style scoped>\n",
       "    .dataframe tbody tr th:only-of-type {\n",
       "        vertical-align: middle;\n",
       "    }\n",
       "\n",
       "    .dataframe tbody tr th {\n",
       "        vertical-align: top;\n",
       "    }\n",
       "\n",
       "    .dataframe thead th {\n",
       "        text-align: right;\n",
       "    }\n",
       "</style>\n",
       "<table border=\"1\" class=\"dataframe\">\n",
       "  <thead>\n",
       "    <tr style=\"text-align: right;\">\n",
       "      <th></th>\n",
       "      <th>row ID</th>\n",
       "      <th>Location</th>\n",
       "      <th>MinTemp</th>\n",
       "      <th>MaxTemp</th>\n",
       "      <th>Rainfall</th>\n",
       "      <th>Evaporation</th>\n",
       "      <th>Sunshine</th>\n",
       "      <th>WindGustDir</th>\n",
       "      <th>WindGustSpeed</th>\n",
       "      <th>WindDir9am</th>\n",
       "      <th>...</th>\n",
       "      <th>WindSpeed3pm</th>\n",
       "      <th>Humidity9am</th>\n",
       "      <th>Humidity3pm</th>\n",
       "      <th>Pressure9am</th>\n",
       "      <th>Pressure3pm</th>\n",
       "      <th>Cloud9am</th>\n",
       "      <th>Cloud3pm</th>\n",
       "      <th>Temp9am</th>\n",
       "      <th>Temp3pm</th>\n",
       "      <th>RainToday</th>\n",
       "    </tr>\n",
       "  </thead>\n",
       "  <tbody>\n",
       "    <tr>\n",
       "      <th>0</th>\n",
       "      <td>False</td>\n",
       "      <td>False</td>\n",
       "      <td>False</td>\n",
       "      <td>False</td>\n",
       "      <td>False</td>\n",
       "      <td>True</td>\n",
       "      <td>True</td>\n",
       "      <td>False</td>\n",
       "      <td>False</td>\n",
       "      <td>False</td>\n",
       "      <td>...</td>\n",
       "      <td>False</td>\n",
       "      <td>False</td>\n",
       "      <td>False</td>\n",
       "      <td>False</td>\n",
       "      <td>False</td>\n",
       "      <td>True</td>\n",
       "      <td>False</td>\n",
       "      <td>False</td>\n",
       "      <td>False</td>\n",
       "      <td>False</td>\n",
       "    </tr>\n",
       "    <tr>\n",
       "      <th>1</th>\n",
       "      <td>False</td>\n",
       "      <td>False</td>\n",
       "      <td>False</td>\n",
       "      <td>False</td>\n",
       "      <td>False</td>\n",
       "      <td>True</td>\n",
       "      <td>True</td>\n",
       "      <td>False</td>\n",
       "      <td>False</td>\n",
       "      <td>False</td>\n",
       "      <td>...</td>\n",
       "      <td>False</td>\n",
       "      <td>False</td>\n",
       "      <td>False</td>\n",
       "      <td>False</td>\n",
       "      <td>False</td>\n",
       "      <td>True</td>\n",
       "      <td>True</td>\n",
       "      <td>False</td>\n",
       "      <td>False</td>\n",
       "      <td>False</td>\n",
       "    </tr>\n",
       "    <tr>\n",
       "      <th>2</th>\n",
       "      <td>False</td>\n",
       "      <td>False</td>\n",
       "      <td>False</td>\n",
       "      <td>False</td>\n",
       "      <td>False</td>\n",
       "      <td>True</td>\n",
       "      <td>True</td>\n",
       "      <td>False</td>\n",
       "      <td>False</td>\n",
       "      <td>False</td>\n",
       "      <td>...</td>\n",
       "      <td>False</td>\n",
       "      <td>False</td>\n",
       "      <td>False</td>\n",
       "      <td>False</td>\n",
       "      <td>False</td>\n",
       "      <td>False</td>\n",
       "      <td>True</td>\n",
       "      <td>False</td>\n",
       "      <td>False</td>\n",
       "      <td>False</td>\n",
       "    </tr>\n",
       "    <tr>\n",
       "      <th>3</th>\n",
       "      <td>False</td>\n",
       "      <td>False</td>\n",
       "      <td>False</td>\n",
       "      <td>False</td>\n",
       "      <td>False</td>\n",
       "      <td>True</td>\n",
       "      <td>True</td>\n",
       "      <td>False</td>\n",
       "      <td>False</td>\n",
       "      <td>False</td>\n",
       "      <td>...</td>\n",
       "      <td>False</td>\n",
       "      <td>False</td>\n",
       "      <td>False</td>\n",
       "      <td>False</td>\n",
       "      <td>False</td>\n",
       "      <td>True</td>\n",
       "      <td>True</td>\n",
       "      <td>False</td>\n",
       "      <td>False</td>\n",
       "      <td>False</td>\n",
       "    </tr>\n",
       "    <tr>\n",
       "      <th>4</th>\n",
       "      <td>False</td>\n",
       "      <td>False</td>\n",
       "      <td>False</td>\n",
       "      <td>False</td>\n",
       "      <td>False</td>\n",
       "      <td>True</td>\n",
       "      <td>True</td>\n",
       "      <td>False</td>\n",
       "      <td>False</td>\n",
       "      <td>False</td>\n",
       "      <td>...</td>\n",
       "      <td>False</td>\n",
       "      <td>False</td>\n",
       "      <td>False</td>\n",
       "      <td>False</td>\n",
       "      <td>False</td>\n",
       "      <td>False</td>\n",
       "      <td>False</td>\n",
       "      <td>False</td>\n",
       "      <td>False</td>\n",
       "      <td>False</td>\n",
       "    </tr>\n",
       "    <tr>\n",
       "      <th>...</th>\n",
       "      <td>...</td>\n",
       "      <td>...</td>\n",
       "      <td>...</td>\n",
       "      <td>...</td>\n",
       "      <td>...</td>\n",
       "      <td>...</td>\n",
       "      <td>...</td>\n",
       "      <td>...</td>\n",
       "      <td>...</td>\n",
       "      <td>...</td>\n",
       "      <td>...</td>\n",
       "      <td>...</td>\n",
       "      <td>...</td>\n",
       "      <td>...</td>\n",
       "      <td>...</td>\n",
       "      <td>...</td>\n",
       "      <td>...</td>\n",
       "      <td>...</td>\n",
       "      <td>...</td>\n",
       "      <td>...</td>\n",
       "      <td>...</td>\n",
       "    </tr>\n",
       "    <tr>\n",
       "      <th>42672</th>\n",
       "      <td>False</td>\n",
       "      <td>False</td>\n",
       "      <td>False</td>\n",
       "      <td>False</td>\n",
       "      <td>False</td>\n",
       "      <td>True</td>\n",
       "      <td>True</td>\n",
       "      <td>False</td>\n",
       "      <td>False</td>\n",
       "      <td>False</td>\n",
       "      <td>...</td>\n",
       "      <td>False</td>\n",
       "      <td>False</td>\n",
       "      <td>False</td>\n",
       "      <td>False</td>\n",
       "      <td>False</td>\n",
       "      <td>True</td>\n",
       "      <td>True</td>\n",
       "      <td>False</td>\n",
       "      <td>False</td>\n",
       "      <td>False</td>\n",
       "    </tr>\n",
       "    <tr>\n",
       "      <th>42673</th>\n",
       "      <td>False</td>\n",
       "      <td>False</td>\n",
       "      <td>False</td>\n",
       "      <td>False</td>\n",
       "      <td>False</td>\n",
       "      <td>True</td>\n",
       "      <td>True</td>\n",
       "      <td>False</td>\n",
       "      <td>False</td>\n",
       "      <td>False</td>\n",
       "      <td>...</td>\n",
       "      <td>False</td>\n",
       "      <td>False</td>\n",
       "      <td>False</td>\n",
       "      <td>False</td>\n",
       "      <td>False</td>\n",
       "      <td>True</td>\n",
       "      <td>True</td>\n",
       "      <td>False</td>\n",
       "      <td>False</td>\n",
       "      <td>False</td>\n",
       "    </tr>\n",
       "    <tr>\n",
       "      <th>42674</th>\n",
       "      <td>False</td>\n",
       "      <td>False</td>\n",
       "      <td>False</td>\n",
       "      <td>False</td>\n",
       "      <td>False</td>\n",
       "      <td>True</td>\n",
       "      <td>True</td>\n",
       "      <td>False</td>\n",
       "      <td>False</td>\n",
       "      <td>False</td>\n",
       "      <td>...</td>\n",
       "      <td>False</td>\n",
       "      <td>False</td>\n",
       "      <td>False</td>\n",
       "      <td>False</td>\n",
       "      <td>False</td>\n",
       "      <td>True</td>\n",
       "      <td>True</td>\n",
       "      <td>False</td>\n",
       "      <td>False</td>\n",
       "      <td>False</td>\n",
       "    </tr>\n",
       "    <tr>\n",
       "      <th>42675</th>\n",
       "      <td>False</td>\n",
       "      <td>False</td>\n",
       "      <td>False</td>\n",
       "      <td>False</td>\n",
       "      <td>False</td>\n",
       "      <td>True</td>\n",
       "      <td>True</td>\n",
       "      <td>False</td>\n",
       "      <td>False</td>\n",
       "      <td>False</td>\n",
       "      <td>...</td>\n",
       "      <td>False</td>\n",
       "      <td>False</td>\n",
       "      <td>False</td>\n",
       "      <td>False</td>\n",
       "      <td>False</td>\n",
       "      <td>True</td>\n",
       "      <td>True</td>\n",
       "      <td>False</td>\n",
       "      <td>False</td>\n",
       "      <td>False</td>\n",
       "    </tr>\n",
       "    <tr>\n",
       "      <th>42676</th>\n",
       "      <td>False</td>\n",
       "      <td>False</td>\n",
       "      <td>False</td>\n",
       "      <td>False</td>\n",
       "      <td>False</td>\n",
       "      <td>True</td>\n",
       "      <td>True</td>\n",
       "      <td>False</td>\n",
       "      <td>False</td>\n",
       "      <td>False</td>\n",
       "      <td>...</td>\n",
       "      <td>False</td>\n",
       "      <td>False</td>\n",
       "      <td>False</td>\n",
       "      <td>False</td>\n",
       "      <td>False</td>\n",
       "      <td>False</td>\n",
       "      <td>False</td>\n",
       "      <td>False</td>\n",
       "      <td>False</td>\n",
       "      <td>False</td>\n",
       "    </tr>\n",
       "  </tbody>\n",
       "</table>\n",
       "<p>42677 rows × 22 columns</p>\n",
       "</div>"
      ],
      "text/plain": [
       "       row ID  Location  MinTemp  MaxTemp  Rainfall  Evaporation  Sunshine  \\\n",
       "0       False     False    False    False     False         True      True   \n",
       "1       False     False    False    False     False         True      True   \n",
       "2       False     False    False    False     False         True      True   \n",
       "3       False     False    False    False     False         True      True   \n",
       "4       False     False    False    False     False         True      True   \n",
       "...       ...       ...      ...      ...       ...          ...       ...   \n",
       "42672   False     False    False    False     False         True      True   \n",
       "42673   False     False    False    False     False         True      True   \n",
       "42674   False     False    False    False     False         True      True   \n",
       "42675   False     False    False    False     False         True      True   \n",
       "42676   False     False    False    False     False         True      True   \n",
       "\n",
       "       WindGustDir  WindGustSpeed  WindDir9am  ...  WindSpeed3pm  Humidity9am  \\\n",
       "0            False          False       False  ...         False        False   \n",
       "1            False          False       False  ...         False        False   \n",
       "2            False          False       False  ...         False        False   \n",
       "3            False          False       False  ...         False        False   \n",
       "4            False          False       False  ...         False        False   \n",
       "...            ...            ...         ...  ...           ...          ...   \n",
       "42672        False          False       False  ...         False        False   \n",
       "42673        False          False       False  ...         False        False   \n",
       "42674        False          False       False  ...         False        False   \n",
       "42675        False          False       False  ...         False        False   \n",
       "42676        False          False       False  ...         False        False   \n",
       "\n",
       "       Humidity3pm  Pressure9am  Pressure3pm  Cloud9am  Cloud3pm  Temp9am  \\\n",
       "0            False        False        False      True     False    False   \n",
       "1            False        False        False      True      True    False   \n",
       "2            False        False        False     False      True    False   \n",
       "3            False        False        False      True      True    False   \n",
       "4            False        False        False     False     False    False   \n",
       "...            ...          ...          ...       ...       ...      ...   \n",
       "42672        False        False        False      True      True    False   \n",
       "42673        False        False        False      True      True    False   \n",
       "42674        False        False        False      True      True    False   \n",
       "42675        False        False        False      True      True    False   \n",
       "42676        False        False        False     False     False    False   \n",
       "\n",
       "       Temp3pm  RainToday  \n",
       "0        False      False  \n",
       "1        False      False  \n",
       "2        False      False  \n",
       "3        False      False  \n",
       "4        False      False  \n",
       "...        ...        ...  \n",
       "42672    False      False  \n",
       "42673    False      False  \n",
       "42674    False      False  \n",
       "42675    False      False  \n",
       "42676    False      False  \n",
       "\n",
       "[42677 rows x 22 columns]"
      ]
     },
     "execution_count": 369,
     "metadata": {},
     "output_type": "execute_result"
    }
   ],
   "source": [
    "df.isnull()"
   ]
  },
  {
   "cell_type": "code",
   "execution_count": 410,
   "id": "b1430a10-a9f0-4dba-b6d7-bd52c4747c9b",
   "metadata": {},
   "outputs": [],
   "source": [
    "df.dropna(inplace=True)"
   ]
  },
  {
   "cell_type": "code",
   "execution_count": 371,
   "id": "3355f1fb-7cac-4120-a03b-a0fe4871b58c",
   "metadata": {},
   "outputs": [
    {
     "data": {
      "text/plain": [
       "(16846, 22)"
      ]
     },
     "execution_count": 371,
     "metadata": {},
     "output_type": "execute_result"
    }
   ],
   "source": [
    "df.shape"
   ]
  },
  {
   "cell_type": "markdown",
   "id": "d8b4df4f-d036-4803-832c-c399903ca769",
   "metadata": {},
   "source": [
    "***Q2. Find all the \"windspeed\" values in the data.***"
   ]
  },
  {
   "cell_type": "code",
   "execution_count": 372,
   "id": "48cc15b5-ed3d-47b8-a0ed-610fdce5d625",
   "metadata": {},
   "outputs": [
    {
     "data": {
      "text/html": [
       "<div>\n",
       "<style scoped>\n",
       "    .dataframe tbody tr th:only-of-type {\n",
       "        vertical-align: middle;\n",
       "    }\n",
       "\n",
       "    .dataframe tbody tr th {\n",
       "        vertical-align: top;\n",
       "    }\n",
       "\n",
       "    .dataframe thead th {\n",
       "        text-align: right;\n",
       "    }\n",
       "</style>\n",
       "<table border=\"1\" class=\"dataframe\">\n",
       "  <thead>\n",
       "    <tr style=\"text-align: right;\">\n",
       "      <th></th>\n",
       "      <th>row ID</th>\n",
       "      <th>Location</th>\n",
       "      <th>MinTemp</th>\n",
       "      <th>MaxTemp</th>\n",
       "      <th>Rainfall</th>\n",
       "      <th>Evaporation</th>\n",
       "      <th>Sunshine</th>\n",
       "      <th>WindGustDir</th>\n",
       "      <th>WindGustSpeed</th>\n",
       "      <th>WindDir9am</th>\n",
       "      <th>...</th>\n",
       "      <th>WindSpeed3pm</th>\n",
       "      <th>Humidity9am</th>\n",
       "      <th>Humidity3pm</th>\n",
       "      <th>Pressure9am</th>\n",
       "      <th>Pressure3pm</th>\n",
       "      <th>Cloud9am</th>\n",
       "      <th>Cloud3pm</th>\n",
       "      <th>Temp9am</th>\n",
       "      <th>Temp3pm</th>\n",
       "      <th>RainToday</th>\n",
       "    </tr>\n",
       "  </thead>\n",
       "  <tbody>\n",
       "    <tr>\n",
       "      <th>1756</th>\n",
       "      <td>Row1787</td>\n",
       "      <td>Cobar</td>\n",
       "      <td>18.4</td>\n",
       "      <td>28.9</td>\n",
       "      <td>0.0</td>\n",
       "      <td>14.8</td>\n",
       "      <td>13.0</td>\n",
       "      <td>S</td>\n",
       "      <td>37.0</td>\n",
       "      <td>SSE</td>\n",
       "      <td>...</td>\n",
       "      <td>19.0</td>\n",
       "      <td>30.0</td>\n",
       "      <td>8.0</td>\n",
       "      <td>1012.9</td>\n",
       "      <td>1012.1</td>\n",
       "      <td>1.0</td>\n",
       "      <td>1.0</td>\n",
       "      <td>20.3</td>\n",
       "      <td>27.0</td>\n",
       "      <td>No</td>\n",
       "    </tr>\n",
       "    <tr>\n",
       "      <th>1757</th>\n",
       "      <td>Row1788</td>\n",
       "      <td>Cobar</td>\n",
       "      <td>19.4</td>\n",
       "      <td>37.6</td>\n",
       "      <td>0.0</td>\n",
       "      <td>10.8</td>\n",
       "      <td>10.6</td>\n",
       "      <td>NNE</td>\n",
       "      <td>46.0</td>\n",
       "      <td>NNE</td>\n",
       "      <td>...</td>\n",
       "      <td>15.0</td>\n",
       "      <td>42.0</td>\n",
       "      <td>22.0</td>\n",
       "      <td>1012.3</td>\n",
       "      <td>1009.2</td>\n",
       "      <td>1.0</td>\n",
       "      <td>6.0</td>\n",
       "      <td>28.7</td>\n",
       "      <td>34.9</td>\n",
       "      <td>No</td>\n",
       "    </tr>\n",
       "  </tbody>\n",
       "</table>\n",
       "<p>2 rows × 22 columns</p>\n",
       "</div>"
      ],
      "text/plain": [
       "       row ID Location  MinTemp  MaxTemp  Rainfall  Evaporation  Sunshine  \\\n",
       "1756  Row1787    Cobar     18.4     28.9       0.0         14.8      13.0   \n",
       "1757  Row1788    Cobar     19.4     37.6       0.0         10.8      10.6   \n",
       "\n",
       "     WindGustDir  WindGustSpeed WindDir9am  ... WindSpeed3pm  Humidity9am  \\\n",
       "1756           S           37.0        SSE  ...         19.0         30.0   \n",
       "1757         NNE           46.0        NNE  ...         15.0         42.0   \n",
       "\n",
       "      Humidity3pm  Pressure9am  Pressure3pm  Cloud9am  Cloud3pm  Temp9am  \\\n",
       "1756          8.0       1012.9       1012.1       1.0       1.0     20.3   \n",
       "1757         22.0       1012.3       1009.2       1.0       6.0     28.7   \n",
       "\n",
       "      Temp3pm  RainToday  \n",
       "1756     27.0         No  \n",
       "1757     34.9         No  \n",
       "\n",
       "[2 rows x 22 columns]"
      ]
     },
     "execution_count": 372,
     "metadata": {},
     "output_type": "execute_result"
    }
   ],
   "source": [
    "df.head(2)"
   ]
  },
  {
   "cell_type": "code",
   "execution_count": 373,
   "id": "a3309c25-349e-41a4-be44-b07c00e99244",
   "metadata": {},
   "outputs": [
    {
     "data": {
      "text/plain": [
       "row ID           16846\n",
       "Location            26\n",
       "MinTemp            335\n",
       "MaxTemp            373\n",
       "Rainfall           284\n",
       "Evaporation        182\n",
       "Sunshine           143\n",
       "WindGustDir         16\n",
       "WindGustSpeed       59\n",
       "WindDir9am          16\n",
       "WindDir3pm          16\n",
       "WindSpeed9am        35\n",
       "WindSpeed3pm        32\n",
       "Humidity9am        100\n",
       "Humidity3pm        100\n",
       "Pressure9am        454\n",
       "Pressure3pm        449\n",
       "Cloud9am             9\n",
       "Cloud3pm             9\n",
       "Temp9am            359\n",
       "Temp3pm            372\n",
       "RainToday            2\n",
       "dtype: int64"
      ]
     },
     "execution_count": 373,
     "metadata": {},
     "output_type": "execute_result"
    }
   ],
   "source": [
    "df.nunique()"
   ]
  },
  {
   "cell_type": "code",
   "execution_count": 374,
   "id": "6ac92a64-4b6a-43d4-8799-825677746572",
   "metadata": {},
   "outputs": [
    {
     "data": {
      "text/plain": [
       "59"
      ]
     },
     "execution_count": 374,
     "metadata": {},
     "output_type": "execute_result"
    }
   ],
   "source": [
    "df['WindGustSpeed'].nunique()"
   ]
  },
  {
   "cell_type": "code",
   "execution_count": 375,
   "id": "9657ccf8-8f23-4eef-b56f-dc0441820528",
   "metadata": {},
   "outputs": [
    {
     "data": {
      "text/plain": [
       "array([ 37.,  46.,  31.,  35.,  41.,  43.,  44.,  56.,  50.,  39.,  57.,\n",
       "        63.,  48.,  30.,  65.,  54.,  26.,  28.,  33.,  20.,  17.,  52.,\n",
       "        24.,  22.,  61.,  83.,  74.,  76.,  69.,  59.,  19.,  67.,  72.,\n",
       "        70.,  15.,  98.,  81., 117.,  78.,  80.,  91.,  87.,  89.,  94.,\n",
       "       107.,  93.,  85., 100.,  96.,  13., 102., 106., 104., 122.,  11.,\n",
       "         9., 115., 113., 111.])"
      ]
     },
     "execution_count": 375,
     "metadata": {},
     "output_type": "execute_result"
    }
   ],
   "source": [
    "df['WindGustSpeed'].unique()"
   ]
  },
  {
   "cell_type": "code",
   "execution_count": 376,
   "id": "f2d241a6-965b-4316-8dcb-90eeff0fe577",
   "metadata": {},
   "outputs": [
    {
     "data": {
      "text/plain": [
       "100"
      ]
     },
     "execution_count": 376,
     "metadata": {},
     "output_type": "execute_result"
    }
   ],
   "source": [
    "df['WindSpeed'] = df['WindSpeed9am'] + df['WindSpeed3pm']\n",
    "df['WindSpeed'].nunique()"
   ]
  },
  {
   "cell_type": "code",
   "execution_count": 377,
   "id": "89899685-d91e-4086-8f6d-87b6894e78a4",
   "metadata": {},
   "outputs": [
    {
     "data": {
      "text/plain": [
       "array([ 38.,  45.,  12.,  30.,  32.,  28.,  35.,  43.,  26.,  34.,  22.,\n",
       "        70.,  37.,  39.,  20.,  33.,  36.,  13.,  47.,  46.,  18.,  24.,\n",
       "        11.,  16.,   9.,  19.,  44.,  17.,  41.,  31.,  21.,  15.,  48.,\n",
       "        42.,  56.,  59.,  50.,  29.,  57.,  25.,  14.,  40.,  63.,  55.,\n",
       "        76.,  23.,  52.,  51.,  67.,  58.,  62.,  61.,  53.,  54.,  60.,\n",
       "        27.,  64.,  74.,  65.,  49.,   8.,  66.,  73.,  79.,  71.,  87.,\n",
       "        84.,  68.,  72.,  82.,  69.,  78.,   6.,  10.,  86.,  80.,  81.,\n",
       "        90., 105., 104.,  91.,  83.,  92.,  96.,  85.,  93., 100.,  75.,\n",
       "        89., 115., 102.,  98.,  95.,   4.,  94.,  77., 113., 106.,  97.,\n",
       "        88.])"
      ]
     },
     "execution_count": 377,
     "metadata": {},
     "output_type": "execute_result"
    }
   ],
   "source": [
    "df['WindSpeed'].unique()"
   ]
  },
  {
   "cell_type": "markdown",
   "id": "48fa0708-cb11-4a2a-95fc-30541af2ad39",
   "metadata": {},
   "source": [
    "***Q3. What is the standard deviation of the air pressure measurements in this dataset?***"
   ]
  },
  {
   "cell_type": "code",
   "execution_count": 378,
   "id": "9459266e-b443-4e03-b7ae-ad5b4e2c11d3",
   "metadata": {},
   "outputs": [
    {
     "data": {
      "text/plain": [
       "13.544193962546931"
      ]
     },
     "execution_count": 378,
     "metadata": {},
     "output_type": "execute_result"
    }
   ],
   "source": [
    "df['Air_Pressure'] = df['Pressure9am'] + df['Pressure3pm']\n",
    "df['Air_Pressure'].std()"
   ]
  },
  {
   "cell_type": "markdown",
   "id": "66119fab-7aaa-4ec7-927a-335c0a37db05",
   "metadata": {},
   "source": [
    "***Q4. What is the 'variance' of rainfall in the data***"
   ]
  },
  {
   "cell_type": "code",
   "execution_count": 379,
   "id": "c2396123-6b40-47b7-b8a5-f0bdcd0d5884",
   "metadata": {},
   "outputs": [
    {
     "data": {
      "text/plain": [
       "48.86024757846638"
      ]
     },
     "execution_count": 379,
     "metadata": {},
     "output_type": "execute_result"
    }
   ],
   "source": [
    "df['Rainfall'].var()"
   ]
  },
  {
   "cell_type": "markdown",
   "id": "0dc429ba-dace-402a-ad2b-2ef7921d74cc",
   "metadata": {},
   "source": [
    "***Q5. How does rainfall vary in different locations?***"
   ]
  },
  {
   "cell_type": "code",
   "execution_count": 380,
   "id": "76e238e2-f2a1-43e9-949d-c6e455f49bc1",
   "metadata": {},
   "outputs": [
    {
     "data": {
      "image/png": "[encoded data removed]",
      "text/plain": [
       "<Figure size 1000x600 with 1 Axes>"
      ]
     },
     "metadata": {},
     "output_type": "display_data"
    }
   ],
   "source": [
    "location_wise_rainfall = df.groupby('Location')['Rainfall'].sum()\n",
    "plt.figure(figsize=(10, 6))\n",
    "location_wise_rainfall.plot(kind='bar', color='black')\n",
    "#plt.title('Total Rainfall')\n",
    "plt.xlabel('Location')\n",
    "plt.ylabel('Total Rainfall (mm)')\n",
    "plt.show()"
   ]
  },
  {
   "cell_type": "markdown",
   "id": "435eec8e-1d39-43ec-9209-980ecb3a3b44",
   "metadata": {},
   "source": [
    "***Q6. Compare minimum and maximum temperature accross all locations?***"
   ]
  },
  {
   "cell_type": "code",
   "execution_count": 381,
   "id": "cd98d04a-f781-4a29-ab48-0645b95e867d",
   "metadata": {},
   "outputs": [
    {
     "data": {
      "image/png": "[encoded data removed]",
      "text/plain": [
       "<Figure size 1000x600 with 1 Axes>"
      ]
     },
     "metadata": {},
     "output_type": "display_data"
    }
   ],
   "source": [
    "Min_temp = df.groupby('Location')['MinTemp'].sum()\n",
    "plt.figure(figsize=(10,6))\n",
    "Min_temp.plot(kind='line', color='blue')\n",
    "plt.xlabel('Location')\n",
    "plt.ylabel('MinTemp')\n",
    "plt.show()"
   ]
  },
  {
   "cell_type": "code",
   "execution_count": 402,
   "id": "549d4fa6-a009-4987-9988-bd48c6b8ed9a",
   "metadata": {},
   "outputs": [
    {
     "data": {
      "image/png": "[encoded data removed]",
      "text/plain": [
       "<Figure size 1000x600 with 1 Axes>"
      ]
     },
     "metadata": {},
     "output_type": "display_data"
    }
   ],
   "source": [
    "Max_Temp = df.groupby('Location')['MaxTemp'].sum()\n",
    "plt.figure(figsize=(10,6))\n",
    "Max_Temp.plot(kind='line', color='black')\n",
    "plt.xlabel('Location')\n",
    "plt.ylabel('MaxTemp')\n",
    "plt.show()"
   ]
  },
  {
   "cell_type": "markdown",
   "id": "d3dd5acc-9c9d-4297-80c2-8138f2b54436",
   "metadata": {},
   "source": [
    "***Q7. Is there any correlation between Rainfall and humidity?***"
   ]
  },
  {
   "cell_type": "code",
   "execution_count": 383,
   "id": "7482432f-09bd-4fad-b0ea-ce8ba38f9a40",
   "metadata": {},
   "outputs": [],
   "source": [
    "df['Humidity'] = df['Humidity9am'] + df['Humidity3pm']"
   ]
  },
  {
   "cell_type": "code",
   "execution_count": 384,
   "id": "daa5f49a-124c-4c6d-b822-8a7f6712a24a",
   "metadata": {},
   "outputs": [
    {
     "name": "stdout",
     "output_type": "stream",
     "text": [
      "Correlation between Rainfall and Humidity : 0.28817937021432266\n"
     ]
    }
   ],
   "source": [
    "correlation = df['Rainfall'].corr(df['Humidity'])\n",
    "print(f'Correlation between Rainfall and Humidity : {correlation}')"
   ]
  },
  {
   "cell_type": "code",
   "execution_count": 385,
   "id": "40becb8a-508f-47ca-a9f8-0efdf4ad2090",
   "metadata": {},
   "outputs": [
    {
     "name": "stdout",
     "output_type": "stream",
     "text": [
      "Correlation between Rainfall and Humidity : 0.28817937021432266\n"
     ]
    },
    {
     "data": {
      "image/png": "[encoded data removed]",
      "text/plain": [
       "<Figure size 1000x600 with 1 Axes>"
      ]
     },
     "metadata": {},
     "output_type": "display_data"
    }
   ],
   "source": [
    "correlation = df['Rainfall'].corr(df['Humidity'])\n",
    "print(f'Correlation between Rainfall and Humidity : {correlation}')\n",
    "plt.figure(figsize=(10, 6))\n",
    "sns.scatterplot(x='Rainfall', y='Humidity', data=df)\n",
    "#plt.title('Scatter plot of Rainfall vs. Humidity')\n",
    "plt.xlabel('Rainfall (mm)')\n",
    "plt.ylabel('Humidity (%)')\n",
    "plt.show()"
   ]
  },
  {
   "cell_type": "markdown",
   "id": "285a564d-cf44-4999-98f7-d431bffe181c",
   "metadata": {},
   "source": [
    "***Q8. Remove all the outliers from the data***"
   ]
  },
  {
   "cell_type": "code",
   "execution_count": 405,
   "id": "97bb4272-c6f2-42b7-b566-e4a32371d3dd",
   "metadata": {},
   "outputs": [
    {
     "data": {
      "image/png": "[encoded data removed]",
      "text/plain": [
       "<Figure size 1000x600 with 1 Axes>"
      ]
     },
     "metadata": {},
     "output_type": "display_data"
    },
    {
     "name": "stdout",
     "output_type": "stream",
     "text": [
      "1756     0.0\n",
      "1757     0.0\n",
      "1758     0.0\n",
      "1759     0.0\n",
      "1760     0.0\n",
      "        ... \n",
      "41697    0.0\n",
      "41698    0.0\n",
      "41699    0.0\n",
      "41700    0.0\n",
      "41701    0.0\n",
      "Name: Rainfall, Length: 16846, dtype: float64\n"
     ]
    }
   ],
   "source": [
    "plt.figure(figsize=(10,6))\n",
    "sns.boxplot(y=df['Rainfall'])\n",
    "plt.ylabel('Rainfall (mm)')\n",
    "plt.show()\n",
    "\n",
    "df_no_outliers = df['Rainfall']\n",
    "print(df_no_outliers)"
   ]
  },
  {
   "cell_type": "markdown",
   "id": "45f707c7-f624-4435-b5fb-393f9947ef90",
   "metadata": {},
   "source": [
    "***Q9. What are the \"top 5 days\" with the highest Sunshine and what were their \"MaxTemp\" and \"Rainfall\"?***"
   ]
  },
  {
   "cell_type": "code",
   "execution_count": 396,
   "id": "be02c134-33bc-414a-a15a-0f6080448d5a",
   "metadata": {},
   "outputs": [
    {
     "name": "stdout",
     "output_type": "stream",
     "text": [
      "       Sunshine  MaxTemp  Rainfall\n",
      "21857      14.3     22.3       0.2\n",
      "30200      14.3     29.2       0.0\n",
      "11384      14.1     25.3       0.4\n",
      "29623      14.1     25.9       0.0\n",
      "3774       14.0     36.8       0.0\n"
     ]
    }
   ],
   "source": [
    "top_sunshine_days = df.nlargest(5, 'Sunshine')[['Sunshine','MaxTemp', 'Rainfall']]\n",
    "print(top_sunshine_days)"
   ]
  },
  {
   "cell_type": "markdown",
   "id": "c3a9f515-0bab-4c23-8a15-049b7e65b067",
   "metadata": {},
   "source": [
    "***Q10. What is the average Evaporation for days when RainToday is 'No'?***"
   ]
  },
  {
   "cell_type": "code",
   "execution_count": 401,
   "id": "9963cf25-a16b-457a-a092-e23e94fd099d",
   "metadata": {},
   "outputs": [
    {
     "name": "stdout",
     "output_type": "stream",
     "text": [
      "5.952992944389653\n"
     ]
    }
   ],
   "source": [
    "Avg_Evaporation = df[df['RainToday']== 'No']['Evaporation'].mean()\n",
    "print(Avg_Evaporation)"
   ]
  },
  {
   "cell_type": "code",
   "execution_count": null,
   "id": "7767052f-20f9-44b8-ad67-138045a5576d",
   "metadata": {},
   "outputs": [],
   "source": []
  },
  {
   "cell_type": "code",
   "execution_count": null,
   "id": "a013b2fb-7c93-434a-8109-a27752b6aae0",
   "metadata": {},
   "outputs": [],
   "source": []
  },
  {
   "cell_type": "code",
   "execution_count": null,
   "id": "46bc903c-7d62-4cbe-9dd5-2b450fc58188",
   "metadata": {},
   "outputs": [],
   "source": []
  }
 ],
 "metadata": {
  "kernelspec": {
   "display_name": "Python 3 (ipykernel)",
   "language": "python",
   "name": "python3"
  },
  "language_info": {
   "codemirror_mode": {
    "name": "ipython",
    "version": 3
   },
   "file_extension": ".py",
   "mimetype": "text/x-python",
   "name": "python",
   "nbconvert_exporter": "python",
   "pygments_lexer": "ipython3",
   "version": "3.11.7"
  }
 },
 "nbformat": 4,
 "nbformat_minor": 5
}
